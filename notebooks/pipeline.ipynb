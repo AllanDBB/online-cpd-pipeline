{
 "cells": [
  {
   "cell_type": "markdown",
   "id": "33b3d4da",
   "metadata": {},
   "source": [
    "# Pipeline de carga y procesamiento de datos\n"
   ]
  },
  {
   "cell_type": "code",
   "execution_count": null,
   "id": "0c7fed46",
   "metadata": {},
   "outputs": [],
   "source": [
    "# Importar funciones de src.data_processing y cargar los datos\n",
    "import sys\n",
    "import os\n",
    "sys.path.append(os.path.abspath('../src'))\n",
    "from data_processing import load_all, load_series, load_changepoints\n",
    "from split_train_test import split_train_test"
   ]
  },
  {
   "cell_type": "code",
   "execution_count": null,
   "id": "718a84bf",
   "metadata": {},
   "outputs": [],
   "source": [
    "# Cargar todas las series y changepoints\n",
    "data = load_all()\n",
    "\n",
    "# Separar todas las series en 3, 3, 3 para Training y Testing\n",
    "split = split_train_test(data)"
   ]
  }
 ],
 "metadata": {
  "kernelspec": {
   "display_name": "Python 3",
   "language": "python",
   "name": "python3"
  },
  "language_info": {
   "codemirror_mode": {
    "name": "ipython",
    "version": 3
   },
   "file_extension": ".py",
   "mimetype": "text/x-python",
   "name": "python",
   "nbconvert_exporter": "python",
   "pygments_lexer": "ipython3",
   "version": "3.11.9"
  }
 },
 "nbformat": 4,
 "nbformat_minor": 5
}
