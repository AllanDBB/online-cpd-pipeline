{
 "cells": [
  {
   "cell_type": "markdown",
   "id": "33b3d4da",
   "metadata": {},
   "source": [
    "# Pipeline de carga y procesamiento de datos\n",
    "Este notebook contiene las funciones y ejemplos para cargar las series de tiempo y los puntos de cambio, y organizar el flujo de trabajo para la detección de puntos de cambio en series temporales."
   ]
  },
  {
   "cell_type": "code",
   "execution_count": null,
   "id": "c5a4a5a7",
   "metadata": {},
   "outputs": [],
   "source": [
    "# Importar funciones de carga de datos\n",
    "import sys\n",
    "import os\n",
    "sys.path.append(os.path.join(os.path.dirname(os.path.abspath(\"\")), '..', 'src'))\n",
    "from data_processing import load_all\n",
    " \n",
    "# Cargar todas las series y changepoints\n",
    "data = load_all()\n",
    "for nivel, info in data.items():\n",
    "    print(f\"Nivel de ruido: {nivel}\")\n",
    "    print(f\"Series shape: {info['series'].shape}\")\n",
    "    print(f\"Ejemplo de changepoints: {info['changepoints'][:2]}\")"
   ]
  }
 ],
 "metadata": {
  "kernelspec": {
   "display_name": "Python 3",
   "language": "python",
   "name": "python3"
  },
  "language_info": {
   "name": "python",
   "version": "3.11.9"
  }
 },
 "nbformat": 4,
 "nbformat_minor": 5
}
